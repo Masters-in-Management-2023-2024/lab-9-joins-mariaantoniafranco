{
  "cells": [
    {
      "cell_type": "markdown",
      "metadata": {
        "id": "gs_wOGI5yU1w"
      },
      "source": [
        "# OPAN5510 Lab Assignment - Joins\n",
        "\n",
        "This lab focuses on using Polars to perform data joins and aggregations to answer business questions."
      ]
    },
    {
      "cell_type": "markdown",
      "metadata": {
        "id": "1RC5vZJsyU1x"
      },
      "source": [
        "# Bike Trips Dataset\n",
        "\n",
        "## Prerequisites\n",
        "\n",
        "For this assignment, you'll need to use Polars for data manipulation.\n",
        "\n",
        "*Insert a code block to import necessary packages (polars)*"
      ]
    },
    {
      "cell_type": "code",
      "execution_count": 2,
      "metadata": {
        "id": "U6sEu6oqyU1x"
      },
      "outputs": [],
      "source": [
        "# Import necessary packages\n",
        "import polars as pl"
      ]
    },
    {
      "cell_type": "markdown",
      "metadata": {
        "id": "BcAhQENByU1x"
      },
      "source": [
        "## Load Datasets\n",
        "\n",
        "Load the `bike_trips.csv` and `bike_weather.csv` files into Polars DataFrames called `trips` and `weather`, respectively.\n",
        "\n",
        "*Insert code block that reads these files into Polars DataFrames*"
      ]
    },
    {
      "cell_type": "code",
      "execution_count": 18,
      "metadata": {
        "colab": {
          "base_uri": "https://localhost:8080/"
        },
        "id": "O1NJ_d1SyU1x",
        "outputId": "5a2f219d-49a9-4374-a1b9-9b4d22746f30"
      },
      "outputs": [
        {
          "output_type": "stream",
          "name": "stdout",
          "text": [
            "78704\n",
            "733\n"
          ]
        }
      ],
      "source": [
        "# Load the bike trips and weather data\n",
        "trips = pl.read_csv(\"https://raw.githubusercontent.com/philhetzel/opan5510-class9/refs/heads/main/data/bike_trips.csv\", null_values='NA')\n",
        "weather = pl.read_csv(\"https://raw.githubusercontent.com/philhetzel/opan5510-class9/refs/heads/main/data/bike_weather.csv\", null_values=['NA',''])\n",
        "\n",
        "trips = trips.with_columns(pl.col(\"date\").str.strptime(pl.Date, \"%Y-%m-%d\").alias(\"date\")) # ensure date column is typed correctly\n",
        "weather = weather.with_columns(pl.col(\"date\").str.strptime(pl.Date, \"%Y-%m-%d\").alias(\"date\")) # ensure date column is typed correctly\n",
        "print(trips.height)\n",
        "print(weather.height)"
      ]
    },
    {
      "cell_type": "markdown",
      "metadata": {
        "id": "R04JtG9EyU1x"
      },
      "source": [
        "## Business Question 1: What was the average `duration` of trips that occurred in rainy weather?\n",
        "\n",
        "#### Part A: Join the trips and weather data frames\n",
        "\n",
        "The `trips` data represent every ride taken for a bike share company. The `weather` data represent the prevailing weather for a particular day. Join the `trips` and `weather` data together using the `date` column. Name the resulting DataFrame `trips_weather`.\n",
        "\n",
        "*Insert a code block below that joins `trips` to `weather` using the `date` column.*"
      ]
    },
    {
      "cell_type": "code",
      "execution_count": 19,
      "metadata": {
        "id": "LMuv46gAyU1y",
        "colab": {
          "base_uri": "https://localhost:8080/"
        },
        "outputId": "bb56a679-8fe4-4eaf-efa4-d20d5a84a8d9"
      },
      "outputs": [
        {
          "output_type": "stream",
          "name": "stdout",
          "text": [
            "Trips after join: 78704\n"
          ]
        }
      ],
      "source": [
        "# Join trips and weather data\n",
        "\n",
        "trips_weather = trips.join(weather, on=\"date\", how=\"inner\")\n",
        "print(f\"Trips after join: {trips_weather.height}\")"
      ]
    },
    {
      "cell_type": "markdown",
      "metadata": {
        "id": "jAmIh2v9yU1y"
      },
      "source": [
        "#### Part B: Calculate the average `duration` of trips in poor weather\n",
        "\n",
        "Using the `trips_weather` DataFrame, compute the average trip `duration` for days that had weather `events` (i.e. anytime a day had an event of anything but `null`). Name the column for average `duration`: `avg_duration`. The resulting DataFrame should have one row and be named `avg_bad_weather`.\n",
        "\n",
        "*Insert a code block that shows the computation of the average trip duration for days that had a weather event.*"
      ]
    },
    {
      "cell_type": "code",
      "execution_count": 20,
      "metadata": {
        "id": "GfK-KPe2yU1y",
        "colab": {
          "base_uri": "https://localhost:8080/"
        },
        "outputId": "d76971c1-5f91-47e0-97e0-814f75e07c15"
      },
      "outputs": [
        {
          "output_type": "stream",
          "name": "stdout",
          "text": [
            "shape: (1, 1)\n",
            "┌──────────────┐\n",
            "│ avg_duration │\n",
            "│ ---          │\n",
            "│ f64          │\n",
            "╞══════════════╡\n",
            "│ 10.34899     │\n",
            "└──────────────┘\n",
            "The average duration of trips in bad weather is 10.35 minutes.\n"
          ]
        }
      ],
      "source": [
        "# Calculate average duration for trips with weather events\n",
        "\n",
        "avg_bad_weather = (\n",
        "    trips_weather\n",
        "    .filter(pl.col(\"events\").is_not_null())\n",
        "    .select(pl.col(\"duration\").mean().alias(\"avg_duration\"))\n",
        ")\n",
        "\n",
        "\n",
        "print(avg_bad_weather)\n",
        "print(f\"The average duration of trips in bad weather is {avg_bad_weather['avg_duration'][0]:.2f} minutes.\")"
      ]
    },
    {
      "cell_type": "markdown",
      "metadata": {
        "id": "r1HZVy2qyU1y"
      },
      "source": [
        "# Baseball Dataset\n",
        "\n",
        "## Load Data\n",
        "\n",
        "Load the `Batting.csv`, `People.csv`, and `HallOfFame.csv` datasets into Polars DataFrames.\n",
        "\n",
        "*Insert a code block to load your datasets*"
      ]
    },
    {
      "cell_type": "code",
      "execution_count": 21,
      "metadata": {
        "id": "qrZO72DTyU1y"
      },
      "outputs": [],
      "source": [
        "# Load baseball datasets\n",
        "Batting = pl.read_csv(\"https://raw.githubusercontent.com/philhetzel/opan5510-class9/refs/heads/main/data/Batting.csv\", null_values='NA')\n",
        "People = pl.read_csv(\"https://raw.githubusercontent.com/philhetzel/opan5510-class9/refs/heads/main/data/People.csv\", null_values='NA')\n",
        "HallOfFame = pl.read_csv(\"https://raw.githubusercontent.com/philhetzel/opan5510-class9/refs/heads/main/data/HallOfFame.csv\", null_values='NA')\n"
      ]
    },
    {
      "cell_type": "markdown",
      "metadata": {
        "id": "M9wo7SwoyU1y"
      },
      "source": [
        "## Question 2: How many home runs (`HR`) were hit by players born in Florida?\n",
        "\n",
        "#### Part A: Join the `Batting` and `People` DataFrames together\n",
        "\n",
        "In order to answer this question, you'll need to use the `Batting` and `People` DataFrames. The `Batting` DataFrame has hitting statistics for every season that an individual player has played. The `People` DataFrame represents biographical data about every professional baseball player.\n",
        "\n",
        "Join the `People` DataFrame into the `Batting` DataFrame so that we can perform analysis on batting statistics using columns from the `People` DataFrame. Name the new DataFrame `stats_w_bio`.\n",
        "\n",
        "*Insert a code block that joins the `Batting` DataFrame to the `People` DataFrame.*"
      ]
    },
    {
      "cell_type": "code",
      "execution_count": 22,
      "metadata": {
        "id": "BOYs3snEyU1y",
        "colab": {
          "base_uri": "https://localhost:8080/"
        },
        "outputId": "ffbb0c52-aff3-4809-dd8c-13418d517257"
      },
      "outputs": [
        {
          "output_type": "stream",
          "name": "stdout",
          "text": [
            "112184\n",
            "shape: (5, 47)\n",
            "┌───────────┬────────┬───────┬────────┬───┬──────────┬───────────┬────────────┬────────────┐\n",
            "│ playerID  ┆ yearID ┆ stint ┆ teamID ┆ … ┆ retroID  ┆ bbrefID   ┆ deathDate  ┆ birthDate  │\n",
            "│ ---       ┆ ---    ┆ ---   ┆ ---    ┆   ┆ ---      ┆ ---       ┆ ---        ┆ ---        │\n",
            "│ str       ┆ i64    ┆ i64   ┆ str    ┆   ┆ str      ┆ str       ┆ str        ┆ str        │\n",
            "╞═══════════╪════════╪═══════╪════════╪═══╪══════════╪═══════════╪════════════╪════════════╡\n",
            "│ abercda01 ┆ 1871   ┆ 1     ┆ TRO    ┆ … ┆ aberd101 ┆ abercda01 ┆ 1939-11-11 ┆ 1850-01-02 │\n",
            "│ addybo01  ┆ 1871   ┆ 1     ┆ RC1    ┆ … ┆ addyb101 ┆ addybo01  ┆ 1910-04-09 ┆ null       │\n",
            "│ allisar01 ┆ 1871   ┆ 1     ┆ CL1    ┆ … ┆ allia101 ┆ allisar01 ┆ 1916-02-25 ┆ 1849-01-29 │\n",
            "│ allisdo01 ┆ 1871   ┆ 1     ┆ WS3    ┆ … ┆ allid101 ┆ allisdo01 ┆ 1916-12-19 ┆ 1846-07-12 │\n",
            "│ ansonca01 ┆ 1871   ┆ 1     ┆ RC1    ┆ … ┆ ansoc101 ┆ ansonca01 ┆ 1922-04-14 ┆ 1852-04-17 │\n",
            "└───────────┴────────┴───────┴────────┴───┴──────────┴───────────┴────────────┴────────────┘\n"
          ]
        }
      ],
      "source": [
        "# Join Batting and People DataFrames\n",
        "\n",
        "stats_w_bio = Batting.join(People, on=\"playerID\", how=\"inner\")\n",
        "print(stats_w_bio.height)\n",
        "\n",
        "print(stats_w_bio.head())"
      ]
    },
    {
      "cell_type": "markdown",
      "metadata": {
        "id": "Pr63NEFcyU1y"
      },
      "source": [
        "#### Part B: Calculate the total number of home runs that were hit by Florida-born players\n",
        "\n",
        "You would like to perform an analysis about how many home runs (`HR`) were hit by players that were born in the `birthState` of Florida (`FL`). Using the new `stats_w_bio` DataFrame that combines batting statistics with biographical information, compute the total number of home runs (`HR`) hit by players who were born (`birthState`) in Florida (`FL`) and name the new column `total_hr`. The DataFrame should have one row and be named `florida_hr`.\n",
        "\n",
        "*Insert a block of code that shows the computation of total home runs hit by players born in Florida. The output of this code block should be a DataFrame.*"
      ]
    },
    {
      "cell_type": "code",
      "execution_count": 23,
      "metadata": {
        "id": "bBGsxFDUyU1y",
        "colab": {
          "base_uri": "https://localhost:8080/"
        },
        "outputId": "69838bea-9ec2-49a5-ab05-2531ed672c93"
      },
      "outputs": [
        {
          "output_type": "stream",
          "name": "stdout",
          "text": [
            "shape: (1, 1)\n",
            "┌──────────┐\n",
            "│ total_hr │\n",
            "│ ---      │\n",
            "│ i64      │\n",
            "╞══════════╡\n",
            "│ 16225    │\n",
            "└──────────┘\n",
            "The total home runs hit by players born in Florida were 16225\n"
          ]
        }
      ],
      "source": [
        "# Calculate total home runs by Florida-born players\n",
        "\n",
        "florida_hr = (\n",
        "    stats_w_bio\n",
        "    .filter(pl.col(\"birthState\") == \"FL\")\n",
        "    .select(pl.sum(\"HR\").alias(\"total_hr\"))\n",
        ") # The closing parenthesis was missing before the print statement.\n",
        "\n",
        "print(florida_hr)\n",
        "\n",
        "total_hr_florida = florida_hr[\"total_hr\"][0]\n",
        "print(f\"The total home runs hit by players born in Florida were {total_hr_florida}\")"
      ]
    },
    {
      "cell_type": "markdown",
      "metadata": {
        "id": "d5v5qjkayU1y"
      },
      "source": [
        "## Question 3: What are the average number of career Hits (`H`) for Hall of Fame baseball players?\n",
        "\n",
        "#### Part A: Clean the `HallOfFame` DataFrame\n",
        "\n",
        "You would like to perform an analysis on the batting statistics of Hall of Fame baseball players. In order to answer this question, you'll need to use the `Batting` and `HallOfFame` DataFrames.\n",
        "\n",
        "The first thing that you have to do to perform this analysis is to join the `HallOfFame` data into the `Batting` data to understand which players are \"Hall of Famers\". To join the data correctly, we have to ensure that the `playerID` field is unique in `HallOfFame`. Not every player in the `HallOfFame` DataFrame is a Hall of Famer; their `inducted` field must have the value of `Y` and their `category` field should have the value of `Player`. Name the new DataFrame `hall_inducted`.\n",
        "\n",
        "*Insert a code block to transform the `HallOfFame` DataFrame to ensure that `playerID` is unique.*"
      ]
    },
    {
      "cell_type": "code",
      "execution_count": 24,
      "metadata": {
        "id": "P0lc9qLPyU1y",
        "colab": {
          "base_uri": "https://localhost:8080/"
        },
        "outputId": "4e3a496f-7773-4bcc-aed7-25120b866c24"
      },
      "outputs": [
        {
          "output_type": "stream",
          "name": "stdout",
          "text": [
            "shape: (270, 9)\n",
            "┌───────────┬────────┬──────────────┬─────────┬───┬───────┬──────────┬──────────┬─────────────┐\n",
            "│ playerID  ┆ yearID ┆ votedBy      ┆ ballots ┆ … ┆ votes ┆ inducted ┆ category ┆ needed_note │\n",
            "│ ---       ┆ ---    ┆ ---          ┆ ---     ┆   ┆ ---   ┆ ---      ┆ ---      ┆ ---         │\n",
            "│ str       ┆ i64    ┆ str          ┆ i64     ┆   ┆ i64   ┆ str      ┆ str      ┆ str         │\n",
            "╞═══════════╪════════╪══════════════╪═════════╪═══╪═══════╪══════════╪══════════╪═════════════╡\n",
            "│ morgajo02 ┆ 1990   ┆ BBWAA        ┆ 444     ┆ … ┆ 363   ┆ Y        ┆ Player   ┆ null        │\n",
            "│ wallabo01 ┆ 1953   ┆ Veterans     ┆ null    ┆ … ┆ null  ┆ Y        ┆ Player   ┆ null        │\n",
            "│ jackstr01 ┆ 1982   ┆ Veterans     ┆ null    ┆ … ┆ null  ┆ Y        ┆ Player   ┆ null        │\n",
            "│ taylobe99 ┆ 2006   ┆ Negro League ┆ null    ┆ … ┆ null  ┆ Y        ┆ Player   ┆ null        │\n",
            "│ gwynnto01 ┆ 2007   ┆ BBWAA        ┆ 545     ┆ … ┆ 532   ┆ Y        ┆ Player   ┆ null        │\n",
            "│ …         ┆ …      ┆ …            ┆ …       ┆ … ┆ …     ┆ …        ┆ …        ┆ …           │\n",
            "│ keelewi01 ┆ 1939   ┆ BBWAA        ┆ 274     ┆ … ┆ 207   ┆ Y        ┆ Player   ┆ null        │\n",
            "│ willite01 ┆ 1966   ┆ BBWAA        ┆ 302     ┆ … ┆ 282   ┆ Y        ┆ Player   ┆ null        │\n",
            "│ hunteca01 ┆ 1987   ┆ BBWAA        ┆ 413     ┆ … ┆ 315   ┆ Y        ┆ Player   ┆ null        │\n",
            "│ tinkejo01 ┆ 1946   ┆ Old Timers   ┆ null    ┆ … ┆ null  ┆ Y        ┆ Player   ┆ null        │\n",
            "│ bankser01 ┆ 1977   ┆ BBWAA        ┆ 383     ┆ … ┆ 321   ┆ Y        ┆ Player   ┆ null        │\n",
            "└───────────┴────────┴──────────────┴─────────┴───┴───────┴──────────┴──────────┴─────────────┘\n"
          ]
        }
      ],
      "source": [
        "# Clean HallOfFame DataFrame\n",
        "\n",
        "hall_inducted = (\n",
        "    HallOfFame\n",
        "    .filter((pl.col(\"inducted\") == \"Y\") & (pl.col(\"category\") == \"Player\"))\n",
        "    .unique(subset=\"playerID\")\n",
        ")\n",
        "\n",
        "print(hall_inducted)\n"
      ]
    },
    {
      "cell_type": "markdown",
      "metadata": {
        "id": "A6z9HFdjyU1y"
      },
      "source": [
        "#### Part B: Find the average number of career hits across Hall of Fame players\n",
        "\n",
        "Join the `hall_inducted` data into the `Batting` data by `playerID`. Aggregate the data to compute the average total hits (`H`) across all Hall of Fame players. To do this, you will first need to calculate the total number of hits for each player and then calculate the average hits across all players. Call the new column `average_hits`. The resulting DataFrame should have one row and be named `hof_hits`.\n",
        "\n",
        "*Insert a code block that joins the `Batting` and the `hall_inducted` data together and then calculates the average number of career hits (`H`) across all Hall of Fame players. The output of this code block should be a DataFrame.*"
      ]
    },
    {
      "cell_type": "code",
      "execution_count": 25,
      "metadata": {
        "id": "JzWY4cVbyU1y",
        "colab": {
          "base_uri": "https://localhost:8080/"
        },
        "outputId": "933a20cf-7770-4018-9246-63cc035fd956"
      },
      "outputs": [
        {
          "output_type": "stream",
          "name": "stdout",
          "text": [
            "shape: (1, 1)\n",
            "┌──────────────┐\n",
            "│ average_hits │\n",
            "│ ---          │\n",
            "│ f64          │\n",
            "╞══════════════╡\n",
            "│ 1717.29918   │\n",
            "└──────────────┘\n",
            "The average career hits for Hall of Fame players is 1717.30\n"
          ]
        }
      ],
      "source": [
        "# Calculate average career hits for Hall of Fame players\n",
        "\n",
        "hof_hits = (\n",
        "    Batting.join(hall_inducted, on=\"playerID\", how=\"inner\")\n",
        "    .group_by(\"playerID\")\n",
        "    .agg(pl.sum(\"H\").alias(\"career_hits\"))\n",
        "    .select(pl.mean(\"career_hits\").alias(\"average_hits\"))\n",
        ")\n",
        "\n",
        "print(hof_hits)\n",
        "\n",
        "average_hits_value = hof_hits[\"average_hits\"][0]\n",
        "print(f\"The average career hits for Hall of Fame players is {average_hits_value:.2f}\")"
      ]
    }
  ],
  "metadata": {
    "kernelspec": {
      "display_name": "Python 3",
      "language": "python",
      "name": "python3"
    },
    "language_info": {
      "codemirror_mode": {
        "name": "ipython",
        "version": 3
      },
      "file_extension": ".py",
      "mimetype": "text/x-python",
      "name": "python",
      "nbconvert_exporter": "python",
      "pygments_lexer": "ipython3",
      "version": "3.12.0"
    },
    "colab": {
      "provenance": []
    }
  },
  "nbformat": 4,
  "nbformat_minor": 0
}